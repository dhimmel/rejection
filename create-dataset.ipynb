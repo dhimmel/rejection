{
 "cells": [
  {
   "cell_type": "markdown",
   "metadata": {},
   "source": [
    "# Map journal titles to Frontiers Rejection Rate dataset"
   ]
  },
  {
   "cell_type": "code",
   "execution_count": 1,
   "metadata": {
    "collapsed": true
   },
   "outputs": [],
   "source": [
    "import pandas"
   ]
  },
  {
   "cell_type": "code",
   "execution_count": 2,
   "metadata": {
    "collapsed": false
   },
   "outputs": [
    {
     "data": {
      "text/html": [
       "<div>\n",
       "<table border=\"1\" class=\"dataframe\">\n",
       "  <thead>\n",
       "    <tr style=\"text-align: right;\">\n",
       "      <th></th>\n",
       "      <th>JCR_title</th>\n",
       "      <th>IF_2014</th>\n",
       "    </tr>\n",
       "  </thead>\n",
       "  <tbody>\n",
       "    <tr>\n",
       "      <th>0</th>\n",
       "      <td>CA-A CANCER JOURNAL FOR CLINICIANS</td>\n",
       "      <td>115.840</td>\n",
       "    </tr>\n",
       "    <tr>\n",
       "      <th>1</th>\n",
       "      <td>NEW ENGLAND JOURNAL OF MEDICINE</td>\n",
       "      <td>55.873</td>\n",
       "    </tr>\n",
       "  </tbody>\n",
       "</table>\n",
       "</div>"
      ],
      "text/plain": [
       "                            JCR_title  IF_2014\n",
       "0  CA-A CANCER JOURNAL FOR CLINICIANS  115.840\n",
       "1     NEW ENGLAND JOURNAL OF MEDICINE   55.873"
      ]
     },
     "execution_count": 2,
     "metadata": {},
     "output_type": "execute_result"
    }
   ],
   "source": [
    "# Read JCR 2014 Impact Factors\n",
    "url = 'https://www.researchgate.net/file.PostFileLoader.html?id=558730995e9d9735688b4631&assetKey=AS%3A273803718922244%401442291301717'\n",
    "jcr_2014_df = pandas.read_excel(url, skiprows=2, converters={'Journal Impact Factor': str})\n",
    "renamer = {'Full Journal Title': 'JCR_title', 'Journal Impact Factor': 'IF_2014'}\n",
    "jcr_2014_df = jcr_2014_df.rename(columns=renamer)[list(renamer.values())]\n",
    "\n",
    "# Unique IFs only\n",
    "counts = jcr_2014_df.IF_2014.value_counts()\n",
    "unique_IFs = set(counts[counts == 1].index)\n",
    "jcr_2014_df = jcr_2014_df[jcr_2014_df.IF_2014.isin(unique_IFs)]\n",
    "\n",
    "jcr_2014_df.head(2)"
   ]
  },
  {
   "cell_type": "code",
   "execution_count": 3,
   "metadata": {
    "collapsed": false
   },
   "outputs": [
    {
     "data": {
      "text/html": [
       "<div>\n",
       "<table border=\"1\" class=\"dataframe\">\n",
       "  <thead>\n",
       "    <tr style=\"text-align: right;\">\n",
       "      <th></th>\n",
       "      <th>rejection_rate</th>\n",
       "      <th>IF_2014</th>\n",
       "    </tr>\n",
       "  </thead>\n",
       "  <tbody>\n",
       "    <tr>\n",
       "      <th>568</th>\n",
       "      <td>0</td>\n",
       "      <td>1.919</td>\n",
       "    </tr>\n",
       "    <tr>\n",
       "      <th>569</th>\n",
       "      <td>0</td>\n",
       "      <td>5.84</td>\n",
       "    </tr>\n",
       "  </tbody>\n",
       "</table>\n",
       "</div>"
      ],
      "text/plain": [
       "     rejection_rate IF_2014\n",
       "568               0   1.919\n",
       "569               0    5.84"
      ]
     },
     "execution_count": 3,
     "metadata": {},
     "output_type": "execute_result"
    }
   ],
   "source": [
    "# Read rejection rates compiled by Frontiers\n",
    "# https://dx.doi.org/10.6084/m9.figshare.2060589.v1\n",
    "url = 'https://ndownloader.figshare.com/files/3661236'\n",
    "reject_df = pandas.read_excel(url, sheetname=1, converters={'Impact Factor (2014)': str})\n",
    "reject_df = reject_df.rename(columns={'Rejection rate': 'rejection_rate', 'Impact Factor (2014)': 'IF_2014'})\n",
    "n_rr = len(reject_df)\n",
    "reject_df.tail(2)"
   ]
  },
  {
   "cell_type": "code",
   "execution_count": 4,
   "metadata": {
    "collapsed": false
   },
   "outputs": [
    {
     "data": {
      "text/html": [
       "<div>\n",
       "<table border=\"1\" class=\"dataframe\">\n",
       "  <thead>\n",
       "    <tr style=\"text-align: right;\">\n",
       "      <th></th>\n",
       "      <th>rejection_rate</th>\n",
       "      <th>IF_2014</th>\n",
       "      <th>JCR_title</th>\n",
       "    </tr>\n",
       "  </thead>\n",
       "  <tbody>\n",
       "    <tr>\n",
       "      <th>112</th>\n",
       "      <td>0.133333</td>\n",
       "      <td>3.544</td>\n",
       "      <td>Frontiers in Neuroanatomy</td>\n",
       "    </tr>\n",
       "    <tr>\n",
       "      <th>113</th>\n",
       "      <td>0.130000</td>\n",
       "      <td>7.037</td>\n",
       "      <td>FRONTIERS IN NEUROENDOCRINOLOGY</td>\n",
       "    </tr>\n",
       "    <tr>\n",
       "      <th>114</th>\n",
       "      <td>0.110000</td>\n",
       "      <td>4.084</td>\n",
       "      <td>Frontiers in Molecular Neuroscience</td>\n",
       "    </tr>\n",
       "    <tr>\n",
       "      <th>115</th>\n",
       "      <td>0.031250</td>\n",
       "      <td>3.802</td>\n",
       "      <td>Frontiers in Pharmacology</td>\n",
       "    </tr>\n",
       "    <tr>\n",
       "      <th>116</th>\n",
       "      <td>0.010000</td>\n",
       "      <td>7.117</td>\n",
       "      <td>CURRENT OPINION IN BIOTECHNOLOGY</td>\n",
       "    </tr>\n",
       "  </tbody>\n",
       "</table>\n",
       "</div>"
      ],
      "text/plain": [
       "     rejection_rate IF_2014                            JCR_title\n",
       "112        0.133333   3.544            Frontiers in Neuroanatomy\n",
       "113        0.130000   7.037      FRONTIERS IN NEUROENDOCRINOLOGY\n",
       "114        0.110000   4.084  Frontiers in Molecular Neuroscience\n",
       "115        0.031250   3.802            Frontiers in Pharmacology\n",
       "116        0.010000   7.117     CURRENT OPINION IN BIOTECHNOLOGY"
      ]
     },
     "execution_count": 4,
     "metadata": {},
     "output_type": "execute_result"
    }
   ],
   "source": [
    "# Add titles to rejection rates\n",
    "reject_df = reject_df.merge(jcr_2014_df)\n",
    "reject_df.tail()"
   ]
  },
  {
   "cell_type": "code",
   "execution_count": 5,
   "metadata": {
    "collapsed": false
   },
   "outputs": [
    {
     "data": {
      "text/plain": [
       "'20.53%'"
      ]
     },
     "execution_count": 5,
     "metadata": {},
     "output_type": "execute_result"
    }
   ],
   "source": [
    "# Percent of journals that uniquely mapped to a title\n",
    "'{:.2%}'.format(len(reject_df) / n_rr)"
   ]
  },
  {
   "cell_type": "code",
   "execution_count": 6,
   "metadata": {
    "collapsed": false
   },
   "outputs": [],
   "source": [
    "# Convert impact factor to a float and sort\n",
    "reject_df.IF_2014 = reject_df.IF_2014.astype(float)\n",
    "reject_df = reject_df.sort_values('rejection_rate', ascending=False)"
   ]
  },
  {
   "cell_type": "code",
   "execution_count": 7,
   "metadata": {
    "collapsed": false
   },
   "outputs": [],
   "source": [
    "# Save as TSV\n",
    "reject_df.to_csv('data/rejection_rates.tsv', sep='\\t', index=False)"
   ]
  }
 ],
 "metadata": {
  "kernelspec": {
   "display_name": "Python 3",
   "language": "python",
   "name": "python3"
  },
  "language_info": {
   "codemirror_mode": {
    "name": "ipython",
    "version": 3
   },
   "file_extension": ".py",
   "mimetype": "text/x-python",
   "name": "python",
   "nbconvert_exporter": "python",
   "pygments_lexer": "ipython3",
   "version": "3.5.1"
  }
 },
 "nbformat": 4,
 "nbformat_minor": 0
}
